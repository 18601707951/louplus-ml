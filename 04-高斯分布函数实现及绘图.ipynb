{
 "cells": [
  {
   "cell_type": "markdown",
   "metadata": {},
   "source": [
    "# <font color='brown'>楼 + 机器学习实战</font>\n",
    "\n",
    "# 挑战：高斯分布函数实现及绘图"
   ]
  },
  {
   "cell_type": "markdown",
   "metadata": {},
   "source": [
    "## 挑战介绍"
   ]
  },
  {
   "cell_type": "markdown",
   "metadata": {},
   "source": [
    "朴素贝叶斯实验中提到了高斯分布，本次挑战通过 Python 实现高斯分布函数，并使用 Matplotlib 绘制不同参数下的高斯分布图像。"
   ]
  },
  {
   "cell_type": "markdown",
   "metadata": {},
   "source": [
    "## 挑战知识点"
   ]
  },
  {
   "cell_type": "markdown",
   "metadata": {},
   "source": [
    "- 实现高斯分布\n",
    "- 绘制高斯分布图像"
   ]
  },
  {
   "cell_type": "markdown",
   "metadata": {},
   "source": [
    "---"
   ]
  },
  {
   "cell_type": "markdown",
   "metadata": {},
   "source": [
    "## 挑战内容"
   ]
  },
  {
   "cell_type": "markdown",
   "metadata": {},
   "source": [
    "### 高斯分布"
   ]
  },
  {
   "cell_type": "markdown",
   "metadata": {},
   "source": [
    "在朴素贝叶斯的实验中，我们知道可以依照特征数据类型，在计算先验概率时对朴素贝叶斯模型进行划分，并分为：多项式模型，伯努利模型和高斯模型。而在前面的实验中，我们使用了多项式模型来完成。"
   ]
  },
  {
   "cell_type": "markdown",
   "metadata": {},
   "source": [
    "很多时候，当我们的特征是连续变量时，运用多项式模型的效果不好。所以，我们通常会采用高斯模型对连续变量进行处理，而高斯模型实际上就是假设连续变量的特征数据是服从高斯分布。其中，高斯分布函数表达式为："
   ]
  },
  {
   "cell_type": "markdown",
   "metadata": {},
   "source": [
    "$$\n",
    "P=\\frac{1}{\\sqrt{2\\pi}\\sigma}exp(-\\frac{(x-\\mu) ^{2}}{2\\sigma ^{2}})\n",
    "$$"
   ]
  },
  {
   "cell_type": "markdown",
   "metadata": {},
   "source": [
    "其中 $\\mu$ 为均值，$\\sigma$ 为方差。"
   ]
  },
  {
   "cell_type": "markdown",
   "metadata": {},
   "source": [
    ">exp：以e为底的指数函数。"
   ]
  },
  {
   "cell_type": "markdown",
   "metadata": {},
   "source": [
    "---"
   ]
  },
  {
   "cell_type": "markdown",
   "metadata": {},
   "source": [
    "**<font color='red'>挑战</font>：参考高斯分布公式，使用 Python 实现高斯分布函数。**"
   ]
  },
  {
   "cell_type": "code",
   "execution_count": 1,
   "metadata": {},
   "outputs": [],
   "source": [
    "\"\"\"实现高斯分布函数\n",
    "\"\"\"\n",
    "import numpy as np\n",
    "\n",
    "def Gaussian(x, u, d):\n",
    "    \"\"\"\n",
    "    参数:\n",
    "    x -- 变量\n",
    "    u -- 均值\n",
    "    d -- 方差\n",
    "\n",
    "    返回:\n",
    "    p -- 高斯分布值\n",
    "    \"\"\"\n",
    "    ### 代码开始 ### (≈ 3~5 行代码)\n",
    "    d_2 = d * d * 2\n",
    "    zhishu = -(np.square(x - u) / d_2)\n",
    "    exp = np.exp(zhishu)\n",
    "    pi = np.pi\n",
    "    xishu = 1 / (np.sqrt(2 * pi) * d)\n",
    "    p = xishu * exp\n",
    "    return p\n",
    "    ### 代码结束 ###"
   ]
  },
  {
   "cell_type": "markdown",
   "metadata": {},
   "source": [
    "**运行测试：**"
   ]
  },
  {
   "cell_type": "code",
   "execution_count": 2,
   "metadata": {},
   "outputs": [
    {
     "data": {
      "text/plain": [
       "(100, 0.030864654760573856)"
      ]
     },
     "execution_count": 2,
     "metadata": {},
     "output_type": "execute_result"
    }
   ],
   "source": [
    "x = np.linspace(-5, 5, 100)\n",
    "u = 3.2\n",
    "d = 5.5\n",
    "g = Gaussian(x, u, d)\n",
    "\n",
    "len(g),g[10]"
   ]
  },
  {
   "cell_type": "markdown",
   "metadata": {},
   "source": [
    "**期望输出：**"
   ]
  },
  {
   "cell_type": "markdown",
   "metadata": {},
   "source": [
    "<div align=\"center\">**`(100, 0.030864654760573856)`**</div>"
   ]
  },
  {
   "cell_type": "markdown",
   "metadata": {},
   "source": [
    "实现高斯分布函数之后，我们可以使用 Matplotlib 绘制出不同参数下的高斯分布图像。"
   ]
  },
  {
   "cell_type": "markdown",
   "metadata": {},
   "source": [
    "---"
   ]
  },
  {
   "cell_type": "markdown",
   "metadata": {},
   "source": [
    "**<font color='red'>挑战</font>：按规定的参数绘制高斯分布图像。**"
   ]
  },
  {
   "cell_type": "markdown",
   "metadata": {},
   "source": [
    "**<font color='blue'>规定</font>**：\n",
    "\n",
    "- 绘制 4 组高斯分布线形图像，$\\mu$ 和 $\\sigma$ 分别为：`(0, 1), (-1, 2), (1, 0.5), (0.5, 5)`。\n",
    "- 4 组高斯分布图像的线形颜色分别为红色、蓝色、绿色、黄色。\n",
    "- 绘制图例，并以 u=$\\mu$, d=$\\sigma$ 样式呈现。"
   ]
  },
  {
   "cell_type": "code",
   "execution_count": 3,
   "metadata": {
    "scrolled": false
   },
   "outputs": [
    {
     "data": {
      "text/plain": [
       "<matplotlib.legend.Legend at 0x7f0a35142978>"
      ]
     },
     "execution_count": 3,
     "metadata": {},
     "output_type": "execute_result"
    },
    {
     "data": {
      "image/png": "[encoded data removed]",
      "text/plain": [
       "<Figure size 576x360 with 1 Axes>"
      ]
     },
     "metadata": {},
     "output_type": "display_data"
    }
   ],
   "source": [
    "from matplotlib import pyplot as plt\n",
    "%matplotlib inline\n",
    "\n",
    "### 代码开始 ### (≈ 5~10 行代码)\n",
    "y_1 = Gaussian(x, 0, 1)\n",
    "y_2 = Gaussian(x, -1, 2)\n",
    "y_3 = Gaussian(x, 1, 0.5)\n",
    "y_4 = Gaussian(x, 0.5, 5)\n",
    "\n",
    "plt.figure(figsize=(8,5))\n",
    "plt.plot(x, y_1, c='r', label=\"u=0, d=1\")\n",
    "plt.plot(x, y_2, c='b', label=\"u=-1, d=2\")\n",
    "plt.plot(x, y_3, c='g', label=\"u=1, d=0.5\")\n",
    "plt.plot(x, y_4, c='y', label=\"u=0.5, d=5\")\n",
    "plt.legend()\n",
    "### 代码结束 ###"
   ]
  },
  {
   "cell_type": "markdown",
   "metadata": {},
   "source": [
    "**期望输出：**"
   ]
  },
  {
   "attachments": {
    "download-1.png": {
     "image/png": "[encoded data removed]"
    }
   },
   "cell_type": "markdown",
   "metadata": {},
   "source": [
    "![download-1.png](attachment:download-1.png)"
   ]
  },
  {
   "cell_type": "markdown",
   "metadata": {},
   "source": [
    "---"
   ]
  },
  {
   "cell_type": "markdown",
   "metadata": {},
   "source": [
    "<div style=\"color: #999;font-size: 12px;font-style: italic;\">*本课程内容，由作者授权实验楼发布，未经允许，禁止转载、下载及非法传播。</div>"
   ]
  }
 ],
 "metadata": {
  "kernelspec": {
   "display_name": "Python 3",
   "language": "python",
   "name": "python3"
  },
  "language_info": {
   "codemirror_mode": {
    "name": "ipython",
    "version": 3
   },
   "file_extension": ".py",
   "mimetype": "text/x-python",
   "name": "python",
   "nbconvert_exporter": "python",
   "pygments_lexer": "ipython3",
   "version": "3.6.6"
  }
 },
 "nbformat": 4,
 "nbformat_minor": 2
}
