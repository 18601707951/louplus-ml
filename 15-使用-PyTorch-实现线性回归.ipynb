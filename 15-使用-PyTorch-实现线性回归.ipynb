{
 "cells": [
  {
   "cell_type": "markdown",
   "metadata": {},
   "source": [
    "# <font color='brown'>楼 + 机器学习实战</font>\n",
    "\n",
    "# 挑战：使用 PyTorch 实现线性回归"
   ]
  },
  {
   "cell_type": "markdown",
   "metadata": {},
   "source": [
    "## 挑战介绍"
   ]
  },
  {
   "cell_type": "markdown",
   "metadata": {},
   "source": [
    "上一个实验中，我们对 PyTorch 的使用进行了介绍，相信你已经对 PyTorch 的张量类型及常用的运算方法比较熟悉了。实验中，我们还尝试使用 PyTorch 来构建了一个简单的 BP 神经网络结构。本次挑战中，需要你使用 PyTorch 实现再熟悉不过的线性回归。当然，挑战的目的在于继续熟悉对 PyTorch 的使用。 "
   ]
  },
  {
   "cell_type": "markdown",
   "metadata": {},
   "source": [
    "## 挑战知识点"
   ]
  },
  {
   "cell_type": "markdown",
   "metadata": {},
   "source": [
    "- PyTorch 原理及使用\n",
    "- 线性回归"
   ]
  },
  {
   "cell_type": "markdown",
   "metadata": {},
   "source": [
    "---"
   ]
  },
  {
   "cell_type": "markdown",
   "metadata": {},
   "source": [
    "## 挑战内容"
   ]
  },
  {
   "cell_type": "markdown",
   "metadata": {},
   "source": [
    "线性回归已经是我们的老朋友了，在第一周的课程中就已经对其进行了深入的介绍。如果用一句话来概括线性回归，那就是在输入和输出数据之间通过线性方法进行建模。"
   ]
  },
  {
   "cell_type": "markdown",
   "metadata": {},
   "source": [
    "首先，我们生成本次挑战所需要的示例数据。"
   ]
  },
  {
   "cell_type": "code",
   "execution_count": 1,
   "metadata": {},
   "outputs": [
    {
     "data": {
      "text/plain": [
       "<matplotlib.collections.PathCollection at 0x7f4d2acab3c8>"
      ]
     },
     "execution_count": 1,
     "metadata": {},
     "output_type": "execute_result"
    },
    {
     "data": {
      "image/png": "[encoded data removed]",
      "text/plain": [
       "<Figure size 432x288 with 1 Axes>"
      ]
     },
     "metadata": {},
     "output_type": "display_data"
    }
   ],
   "source": [
    "import torch as t\n",
    "from matplotlib import pyplot as plt\n",
    "%matplotlib inline\n",
    "\n",
    "t.manual_seed(10)\n",
    "x = t.linspace(1, 10, 50)\n",
    "y = 2 * x + 3 * t.rand(50)\n",
    "\n",
    "plt.style.use(\"ggplot\") # 使用美观的样式\n",
    "plt.scatter(x, y)"
   ]
  },
  {
   "cell_type": "markdown",
   "metadata": {},
   "source": [
    "### 实现线性回归模型"
   ]
  },
  {
   "cell_type": "markdown",
   "metadata": {},
   "source": [
    "前面的实验内容中，我们说过 `torch.nn.Module` 类是所有神经网络的基类，它既可以表示神经网络中的某层，也可以表示若干层的神经网络。接下来，你将通过继承 `torch.nn.Modules` 类来实现我们所需要的 `LinearRegressionModel()` 类。"
   ]
  },
  {
   "cell_type": "markdown",
   "metadata": {},
   "source": [
    "---"
   ]
  },
  {
   "cell_type": "markdown",
   "metadata": {},
   "source": [
    "**<font color='red'>挑战</font>：继承 `torch.nn.Module` 类实现挑战所需的 `LinearRegressionModel()` 线性回归类。**"
   ]
  },
  {
   "cell_type": "markdown",
   "metadata": {},
   "source": [
    "**<font color='blue'>规定</font>**：只能使用 torch 模块提供的类和方法。"
   ]
  },
  {
   "cell_type": "markdown",
   "metadata": {},
   "source": [
    "**<font color='green'>提示</font>**：可能会用到 `nn.Linear()` 线性变换层。[官方文档](https://pytorch.org/docs/master/nn.html#linear-layers)"
   ]
  },
  {
   "cell_type": "code",
   "execution_count": 2,
   "metadata": {},
   "outputs": [],
   "source": [
    "import torch.nn as nn\n",
    "\n",
    "### 代码开始 ### (≈ 3 行代码)\n",
    "class LinearRegressionModel(nn.Module):\n",
    "    \n",
    "    def __init__(self):\n",
    "        super(LinearRegressionModel, self).__init__() \n",
    "        self.linear = nn.Linear(1, 1)\n",
    "\n",
    "    def forward(self, x):\n",
    "        out = self.linear(x)\n",
    "        return out\n",
    "### 代码结束 ###"
   ]
  },
  {
   "cell_type": "code",
   "execution_count": 3,
   "metadata": {},
   "outputs": [],
   "source": [
    "# 解法 2 \n",
    "### 代码开始 ### (≈ 3 行代码)\n",
    "class LinearRegressionModel(nn.Module):\n",
    "    \n",
    "    def __init__(self):\n",
    "        nn.Module.__init__(self)\n",
    "        self.linear = nn.Linear(1, 1)\n",
    "\n",
    "    def forward(self, x):\n",
    "        out = self.linear(x)\n",
    "        return out\n",
    "### 代码结束 ###"
   ]
  },
  {
   "cell_type": "markdown",
   "metadata": {},
   "source": [
    "**运行测试：**"
   ]
  },
  {
   "cell_type": "code",
   "execution_count": 4,
   "metadata": {},
   "outputs": [
    {
     "data": {
      "text/plain": [
       "LinearRegressionModel(\n",
       "  (linear): Linear(in_features=1, out_features=1, bias=True)\n",
       ")"
      ]
     },
     "execution_count": 4,
     "metadata": {},
     "output_type": "execute_result"
    }
   ],
   "source": [
    "LinearRegressionModel()"
   ]
  },
  {
   "cell_type": "markdown",
   "metadata": {},
   "source": [
    "**期望输出：**"
   ]
  },
  {
   "cell_type": "markdown",
   "metadata": {},
   "source": [
    "<center>`LinearRegressionModel(\n",
    "    (linear): Linear(in_features=1, out_features=1, bias=True))`</center>"
   ]
  },
  {
   "cell_type": "markdown",
   "metadata": {},
   "source": [
    "本次挑战当然不会使用最小二乘法来求解线性回归参数，我们将使用随机梯度下降算法求解。所以，首先需要定义损失函数以及优化器。挑战将会选择 MSE 的值作为损失函数，并通过 SGD 算法求解。"
   ]
  },
  {
   "cell_type": "markdown",
   "metadata": {},
   "source": [
    "---"
   ]
  },
  {
   "cell_type": "markdown",
   "metadata": {},
   "source": [
    "**<font color='red'>挑战</font>：定义 MSE 损失函数及随机梯度下降优化器。**"
   ]
  },
  {
   "cell_type": "markdown",
   "metadata": {},
   "source": [
    "**<font color='blue'>规定</font>**：随机梯度下降优化器的学习率设为 `0.01`，其余使用默认参数。"
   ]
  },
  {
   "cell_type": "markdown",
   "metadata": {},
   "source": [
    "**<font color='green'>提示</font>**：可能会用到实验中提到的损失函数和优化器。"
   ]
  },
  {
   "cell_type": "code",
   "execution_count": 5,
   "metadata": {},
   "outputs": [],
   "source": [
    "model = LinearRegressionModel() # 实例化模型\n",
    "### 代码开始 ### (≈ 2 行代码)\n",
    "\n",
    "loss_fn = nn.MSELoss() # 定义损失函数\n",
    "optimiser = t.optim.SGD(model.parameters(), lr = 0.01) # 定义优化器\n",
    "\n",
    "### 代码开始 ### (≈ 3 行代码)"
   ]
  },
  {
   "cell_type": "markdown",
   "metadata": {},
   "source": [
    "**运行测试：**"
   ]
  },
  {
   "cell_type": "code",
   "execution_count": 6,
   "metadata": {
    "scrolled": true
   },
   "outputs": [
    {
     "data": {
      "text/plain": [
       "(MSELoss(), SGD (\n",
       " Parameter Group 0\n",
       "     dampening: 0\n",
       "     lr: 0.01\n",
       "     momentum: 0\n",
       "     nesterov: False\n",
       "     weight_decay: 0\n",
       " ))"
      ]
     },
     "execution_count": 6,
     "metadata": {},
     "output_type": "execute_result"
    }
   ],
   "source": [
    "loss_fn, optimiser"
   ]
  },
  {
   "cell_type": "markdown",
   "metadata": {},
   "source": [
    "**期望输出：**"
   ]
  },
  {
   "cell_type": "markdown",
   "metadata": {},
   "source": [
    "<center>`(MSELoss(), SGD (\n",
    " Parameter Group 0\n",
    "     dampening: 0\n",
    "     lr: 0.01\n",
    "     momentum: 0\n",
    "     nesterov: False\n",
    "     weight_decay: 0\n",
    " ))`</center>"
   ]
  },
  {
   "cell_type": "markdown",
   "metadata": {},
   "source": [
    "一切准备就绪，接下来就是训练模型并求解线性回归参数。"
   ]
  },
  {
   "cell_type": "markdown",
   "metadata": {},
   "source": [
    "---"
   ]
  },
  {
   "cell_type": "markdown",
   "metadata": {},
   "source": [
    "**<font color='red'>挑战</font>：完成线性回归参数优化迭代过程。**"
   ]
  },
  {
   "cell_type": "markdown",
   "metadata": {},
   "source": [
    "**<font color='blue'>规定</font>**：迭代次数为 100 次。"
   ]
  },
  {
   "cell_type": "markdown",
   "metadata": {},
   "source": [
    "**<font color='green'>提示</font>**：注意输入数据的形状问题。思路是先前向传递得到真实值，计算损失并通过优化器迭代。"
   ]
  },
  {
   "cell_type": "code",
   "execution_count": 7,
   "metadata": {
    "scrolled": false
   },
   "outputs": [
    {
     "name": "stdout",
     "output_type": "stream",
     "text": [
      "epoch 0, loss 314.94317626953125\n",
      "epoch 10, loss 0.7903921604156494\n",
      "epoch 20, loss 0.7836881875991821\n",
      "epoch 30, loss 0.7774626016616821\n",
      "epoch 40, loss 0.7716800570487976\n",
      "epoch 50, loss 0.7663095593452454\n",
      "epoch 60, loss 0.7613217234611511\n",
      "epoch 70, loss 0.7566891312599182\n",
      "epoch 80, loss 0.7523863911628723\n",
      "epoch 90, loss 0.748390793800354\n"
     ]
    }
   ],
   "source": [
    "### 代码开始 ### (≈ 7 行代码)\n",
    "for epoch in range(100):\n",
    "    X = x.reshape(len(x), 1) # 输入 x 张量\n",
    "    Y = y.reshape(len(y), 1) # 输入 y 张量\n",
    "    \n",
    "    optimiser.zero_grad()\n",
    "    Y_ = model.forward(X)\n",
    "    loss = loss_fn(Y_, Y)\n",
    "    loss.backward()\n",
    "    optimiser.step()\n",
    "    ### 代码结束 ###\n",
    "    \n",
    "    if epoch % 10 == 0:\n",
    "        print('epoch {}, loss {}'.format(epoch, loss.item()))"
   ]
  },
  {
   "cell_type": "markdown",
   "metadata": {},
   "source": [
    "**参考输出：**（loss 数值不同没有关系）"
   ]
  },
  {
   "cell_type": "markdown",
   "metadata": {},
   "source": [
    "    epoch 0, loss 314.94317626953125\n",
    "    epoch 10, loss 0.7903921604156494\n",
    "    epoch 20, loss 0.7836881875991821\n",
    "    epoch 30, loss 0.7774626016616821\n",
    "    epoch 40, loss 0.7716800570487976\n",
    "    epoch 50, loss 0.7663095593452454\n",
    "    epoch 60, loss 0.7613217234611511\n",
    "    epoch 70, loss 0.7566891312599182\n",
    "    epoch 80, loss 0.7523863911628723\n",
    "    epoch 90, loss 0.748390793800354"
   ]
  },
  {
   "cell_type": "markdown",
   "metadata": {},
   "source": [
    "---"
   ]
  },
  {
   "cell_type": "markdown",
   "metadata": {},
   "source": [
    "最后，同样需要将拟合后直线绘制到原散点图中查看效果。"
   ]
  },
  {
   "cell_type": "markdown",
   "metadata": {},
   "source": [
    "**<font color='red'>挑战</font>：根据拟合参数，将拟合直线绘制到图像中。**"
   ]
  },
  {
   "cell_type": "markdown",
   "metadata": {},
   "source": [
    "**<font color='green'>提示</font>**：通过 `model.state_dict()` 读取拟合参数。"
   ]
  },
  {
   "cell_type": "code",
   "execution_count": 8,
   "metadata": {},
   "outputs": [
    {
     "data": {
      "text/plain": [
       "[<matplotlib.lines.Line2D at 0x7f4d2ac98b70>]"
      ]
     },
     "execution_count": 8,
     "metadata": {},
     "output_type": "execute_result"
    },
    {
     "data": {
      "image/png": "[encoded data removed]",
      "text/plain": [
       "<Figure size 432x288 with 1 Axes>"
      ]
     },
     "metadata": {},
     "output_type": "display_data"
    }
   ],
   "source": [
    "### 代码开始 ### (≈ 4 行代码)\n",
    "weight = model.state_dict()['linear.weight'] # 权重\n",
    "bias = model.state_dict()['linear.bias'] # 偏置项\n",
    "\n",
    "plt.style.use(\"ggplot\")\n",
    "plt.scatter(x, y,c='black')\n",
    "plt.plot([0, 11],[bias, weight * 11 + bias], 'r')\n",
    "### 代码结束 ###"
   ]
  },
  {
   "cell_type": "markdown",
   "metadata": {},
   "source": [
    "**期望输出：**"
   ]
  },
  {
   "attachments": {
    "download-6.png": {
     "image/png": "[encoded data removed]"
    }
   },
   "cell_type": "markdown",
   "metadata": {},
   "source": [
    "![download-6.png](attachment:download-6.png)"
   ]
  },
  {
   "cell_type": "markdown",
   "metadata": {},
   "source": [
    "---"
   ]
  },
  {
   "cell_type": "markdown",
   "metadata": {},
   "source": [
    "<div style=\"color: #999;font-size: 12px;font-style: italic;\">*本课程内容，由作者授权实验楼发布，未经允许，禁止转载、下载及非法传播。</div>"
   ]
  }
 ],
 "metadata": {
  "kernelspec": {
   "display_name": "Python 3",
   "language": "python",
   "name": "python3"
  },
  "language_info": {
   "codemirror_mode": {
    "name": "ipython",
    "version": 3
   },
   "file_extension": ".py",
   "mimetype": "text/x-python",
   "name": "python",
   "nbconvert_exporter": "python",
   "pygments_lexer": "ipython3",
   "version": "3.6.6"
  }
 },
 "nbformat": 4,
 "nbformat_minor": 2
}
