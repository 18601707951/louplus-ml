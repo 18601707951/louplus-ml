{
 "cells": [
  {
   "cell_type": "markdown",
   "metadata": {},
   "source": [
    "# <font color='brown'>楼 + 机器学习实战</font>\n",
    "\n",
    "# 挑战：训练手写字符识别神经网络"
   ]
  },
  {
   "cell_type": "markdown",
   "metadata": {},
   "source": [
    "---"
   ]
  },
  {
   "cell_type": "markdown",
   "metadata": {},
   "source": [
    "** <center><font color='red'>以下内容仅保留挑战代码部分，挑战全文请到原课程查看。</font></center>**"
   ]
  },
  {
   "cell_type": "markdown",
   "metadata": {},
   "source": [
    "---"
   ]
  },
  {
   "cell_type": "markdown",
   "metadata": {},
   "source": [
    "**<font color='red'>挑战</font>：使用 `1x5` 的子图样式绘制 Digits 数据集前 `5` 个手写字符的图像。**"
   ]
  },
  {
   "cell_type": "code",
   "execution_count": null,
   "metadata": {},
   "outputs": [],
   "source": [
    "### 代码开始 ### (3～5 行代码)\n",
    "fig, axes = plt.subplots(1, 5, figsize=(12,4))\n",
    "for i, image in enumerate(digits.images[:5]):\n",
    "    axes[i].imshow(image, cmap=plt.cm.gray_r)\n",
    "### 代码结束 ###"
   ]
  },
  {
   "cell_type": "markdown",
   "metadata": {},
   "source": [
    "---"
   ]
  },
  {
   "cell_type": "markdown",
   "metadata": {},
   "source": [
    "**<font color='red'>挑战</font>：使用 `train_test_split()` 将数据集切分为 80%（训练集） 和 20%（测试集） 两部分。**"
   ]
  },
  {
   "cell_type": "markdown",
   "metadata": {},
   "source": [
    "**<font color='blue'>规定</font>**：训练集特征，训练集目标，测试集特征，测试集目标分别定义为：`train_x, train_y, test_x, test_y`，随机数种子定为 `30`。"
   ]
  },
  {
   "cell_type": "code",
   "execution_count": null,
   "metadata": {},
   "outputs": [],
   "source": [
    "### 代码开始 ### (≈ 2 行代码)\n",
    "from sklearn.model_selection import train_test_split\n",
    "\n",
    "train_x, test_x, train_y, test_y = train_test_split(digits.data, digits.target, test_size=0.2, random_state=30)\n",
    "### 代码结束 ###"
   ]
  },
  {
   "cell_type": "markdown",
   "metadata": {},
   "source": [
    "---"
   ]
  },
  {
   "cell_type": "markdown",
   "metadata": {},
   "source": [
    "**<font color='red'>挑战</font>：使用 `MLPClassifier()` 搭建神经网络结构，并训练手写字符识别模型，最后得到在测试集上的预测准确率。**"
   ]
  },
  {
   "cell_type": "markdown",
   "metadata": {},
   "source": [
    "**<font color='blue'>规定</font>**：\n",
    "\n",
    "- 神经网络结构包含 `2` 个隐含层，依次有 `100` 和 `50` 个神经元。\n",
    "- 使用 `relu` 作为激活函数。\n",
    "- 使用随机梯度下降 `SGD` 方法求解。\n",
    "- 学习率为 `0.02` 且在学习过程中保持不变。\n",
    "- 最大迭代次数为 `100` 次。\n",
    "- 随机数种子设为 `1`。\n",
    "- 其余参数使用默认值。"
   ]
  },
  {
   "cell_type": "code",
   "execution_count": null,
   "metadata": {},
   "outputs": [],
   "source": [
    "from sklearn.neural_network import MLPClassifier\n",
    "from sklearn.metrics import accuracy_score\n",
    "\n",
    "def mpl():\n",
    "    \"\"\"\n",
    "    参数:无\n",
    "\n",
    "    返回:\n",
    "    model -- 人工神经网络模型\n",
    "    score -- 测试集上的预测准确率\n",
    "    \"\"\"\n",
    "    ### 代码开始 ### (≈ 2 行代码)\n",
    "    model = MLPClassifier(\n",
    "        hidden_layer_sizes=(100, 50),\n",
    "        activation='relu',\n",
    "        solver='sgd',\n",
    "        learning_rate_init=0.02,\n",
    "        learning_rate='constant',\n",
    "        max_iter=100,\n",
    "        random_state=1\n",
    "    )\n",
    "\n",
    "    model.fit(train_x, train_y)\n",
    "    score = accuracy_score(test_y, model.predict(test_x))\n",
    "    ### 代码结束 ###\n",
    "    return model, score"
   ]
  },
  {
   "cell_type": "markdown",
   "metadata": {},
   "source": [
    "---"
   ]
  },
  {
   "cell_type": "markdown",
   "metadata": {},
   "source": [
    "<div style=\"color: #999;font-size: 12px;font-style: italic;\">*本课程内容，由作者授权实验楼发布，未经允许，禁止转载、下载及非法传播。</div>"
   ]
  }
 ],
 "metadata": {
  "kernelspec": {
   "display_name": "Python 3",
   "language": "python",
   "name": "python3"
  },
  "language_info": {
   "codemirror_mode": {
    "name": "ipython",
    "version": 3
   },
   "file_extension": ".py",
   "mimetype": "text/x-python",
   "name": "python",
   "nbconvert_exporter": "python",
   "pygments_lexer": "ipython3",
   "version": "3.6.3"
  }
 },
 "nbformat": 4,
 "nbformat_minor": 2
}
