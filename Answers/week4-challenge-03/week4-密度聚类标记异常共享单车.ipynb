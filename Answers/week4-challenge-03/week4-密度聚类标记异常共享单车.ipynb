{
 "cells": [
  {
   "cell_type": "markdown",
   "metadata": {},
   "source": [
    "<a target=\"_blank\" href=\"https://shiyanlou.com/louplus/ml\"><img style=\"float: right;\" src=\"https://doc.shiyanlou.com/document-uid214893labid7506timestamp1555400601684.png\"></a>"
   ]
  },
  {
   "cell_type": "markdown",
   "metadata": {},
   "source": [
    "## 密度聚类标记异常共享单车"
   ]
  },
  {
   "cell_type": "markdown",
   "metadata": {},
   "source": [
    "---"
   ]
  },
  {
   "cell_type": "markdown",
   "metadata": {},
   "source": [
    "<i class=\"fa fa-exclamation-circle\" aria-hidden=\"true\"> 以下内容仅包含挑战需学员补充部分的参考答案，完整挑战请到原课程页面查看。</i>"
   ]
  },
  {
   "cell_type": "markdown",
   "metadata": {},
   "source": [
    "---"
   ]
  },
  {
   "cell_type": "markdown",
   "metadata": {},
   "source": [
    "<font color='red'><i class=\"fa fa-check-square\" aria-hidden=\"true\"> 挑战</i></font>：使用 DBSCAN 算法完成共享单车 GPS 散点数据密度聚类，需要确定 `eps` 和 `min_samples` 参数。"
   ]
  },
  {
   "cell_type": "code",
   "execution_count": null,
   "metadata": {},
   "outputs": [],
   "source": [
    "from sklearn.cluster import DBSCAN\n",
    "\n",
    "### 代码开始 ### (≈ 2 行代码)\n",
    "dbscan_m = DBSCAN(eps=0.001, min_samples=10)\n",
    "dbscan_c = dbscan_m.fit_predict(df)\n",
    "### 代码结束 ###\n",
    "dbscan_c  # 输出聚类标签"
   ]
  },
  {
   "cell_type": "markdown",
   "metadata": {},
   "source": [
    "<font color='red'><i class=\"fa fa-check-square\" aria-hidden=\"true\"> 挑战</i></font>：针对上面聚类后数据，按要求重新绘制散点图。"
   ]
  },
  {
   "cell_type": "code",
   "execution_count": null,
   "metadata": {},
   "outputs": [],
   "source": [
    "### 代码开始 ### (≈ 4~8 行代码)\n",
    "plt.figure(figsize=(15, 8))\n",
    "df_c = pd.concat([df, pd.DataFrame(dbscan_c, columns=['clusters'])], axis=1)\n",
    "\n",
    "df_n = df_c[df_c['clusters']!=-1]\n",
    "df_o = df_c[df_c['clusters']==-1]\n",
    "\n",
    "plt.figure(figsize=(15,8))\n",
    "plt.scatter(df_n['lat'], df_n['lon'], c=df_n['clusters'], cmap='viridis')\n",
    "plt.scatter(df_o['lat'], df_o['lon'], alpha=.1, c='b')\n",
    "### 代码结束 ###"
   ]
  },
  {
   "cell_type": "markdown",
   "metadata": {},
   "source": [
    "<font color='red'><i class=\"fa fa-check-square\" aria-hidden=\"true\"> 挑战</i></font>：针对聚类后数据，将异常点（不符合半径 100 米内有 2 辆共享单车）绘制到散点图。"
   ]
  },
  {
   "cell_type": "code",
   "execution_count": null,
   "metadata": {},
   "outputs": [],
   "source": [
    "### 代码开始 ### (≈ 6~10 行代码)\n",
    "plt.figure(figsize=(15, 8))\n",
    "plt.figure(figsize=(15,8))\n",
    "\n",
    "dbscan_m = DBSCAN(eps=0.001, min_samples=2)\n",
    "dbscan_c = dbscan_m.fit_predict(df)\n",
    "dbscan_c\n",
    "\n",
    "df_c = pd.concat([df, pd.DataFrame(dbscan_c, columns=['clusters'])], axis=1)\n",
    "\n",
    "df_n = df_c[df_c['clusters']!=-1]\n",
    "df_o = df_c[df_c['clusters']==-1]\n",
    "\n",
    "plt.scatter(df_n['lat'], df_n['lon'], c=df_n['clusters'], cmap='viridis', alpha=.1)\n",
    "plt.scatter(df_o['lat'], df_o['lon'], c='r')\n",
    "### 代码结束 ###"
   ]
  },
  {
   "cell_type": "markdown",
   "metadata": {},
   "source": [
    "---"
   ]
  },
  {
   "cell_type": "markdown",
   "metadata": {},
   "source": [
    "<img src=\"https://doc.shiyanlou.com/document-uid214893labid7506timestamp1545810029884.png\">"
   ]
  }
 ],
 "metadata": {
  "kernelspec": {
   "display_name": "Python 3",
   "language": "python",
   "name": "python3"
  },
  "language_info": {
   "codemirror_mode": {
    "name": "ipython",
    "version": 3
   },
   "file_extension": ".py",
   "mimetype": "text/x-python",
   "name": "python",
   "nbconvert_exporter": "python",
   "pygments_lexer": "ipython3",
   "version": "3.6.8"
  }
 },
 "nbformat": 4,
 "nbformat_minor": 2
}
