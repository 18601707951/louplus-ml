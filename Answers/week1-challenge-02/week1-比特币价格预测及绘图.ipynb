{
 "cells": [
  {
   "cell_type": "markdown",
   "metadata": {},
   "source": [
    "<img style=\"float: right;\" src=\"https://doc.shiyanlou.com/document-uid214893labid7506timestamp1555400601684.png\">"
   ]
  },
  {
   "cell_type": "markdown",
   "metadata": {},
   "source": [
    "## 比特币价格预测及绘图"
   ]
  },
  {
   "cell_type": "markdown",
   "metadata": {},
   "source": [
    "---"
   ]
  },
  {
   "cell_type": "markdown",
   "metadata": {},
   "source": [
    "<i class=\"fa fa-exclamation-circle\" aria-hidden=\"true\"> 以下内容仅保留挑战参考答案代码部分，完整挑战请到原课程页面查看。</i>"
   ]
  },
  {
   "cell_type": "markdown",
   "metadata": {},
   "source": [
    "---"
   ]
  },
  {
   "cell_type": "markdown",
   "metadata": {},
   "source": [
    "<font color='red'><i class=\"fa fa-check-square\" aria-hidden=\"true\"> 挑战</i></font>：使用 Pandas 加载数据集 CSV 文件，并预览前 `5` 行数据。"
   ]
  },
  {
   "cell_type": "code",
   "execution_count": null,
   "metadata": {
    "scrolled": false
   },
   "outputs": [],
   "source": [
    "import pandas as pd\n",
    "\n",
    "### 代码开始 ### (≈ 2 行代码)\n",
    "df = pd.read_csv(\n",
    "    'https://labfile.oss.aliyuncs.com/courses/1081/challenge-2-bitcoin.csv', header=0)\n",
    "df.head()\n",
    "### 代码结束 ###"
   ]
  },
  {
   "cell_type": "markdown",
   "metadata": {},
   "source": [
    "<font color='red'><i class=\"fa fa-check-square\" aria-hidden=\"true\"> 挑战</i></font>：分离出仅包含 `btc_market_price`，`btc_total_bitcoins`，`btc_transaction_fees` 列的 DataFrame，并定义为变量 `data`。"
   ]
  },
  {
   "cell_type": "code",
   "execution_count": null,
   "metadata": {},
   "outputs": [],
   "source": [
    "### 代码开始 ### (≈ 1 行代码)\n",
    "data = df[['btc_market_price','btc_total_bitcoins', 'btc_transaction_fees']]\n",
    "### 代码结束 ###"
   ]
  },
  {
   "cell_type": "markdown",
   "metadata": {},
   "source": [
    "<font color='red'><i class=\"fa fa-check-square\" aria-hidden=\"true\"> 挑战</i></font>：分别绘制 `data` 数据集 3 列数据的线形图，并以横向子图排列。"
   ]
  },
  {
   "cell_type": "code",
   "execution_count": null,
   "metadata": {},
   "outputs": [],
   "source": [
    "from matplotlib import pyplot as plt\n",
    "%matplotlib inline\n",
    "\n",
    "fig, axes = plt.subplots(1, 3, figsize=(16, 5))\n",
    "\n",
    "### 代码开始 ### (≈ 9 行代码)\n",
    "axes[0].plot(data['btc_market_price'], 'green')\n",
    "axes[0].set_xlabel('time')\n",
    "axes[0].set_ylabel('btc_market_price')\n",
    "\n",
    "axes[1].plot(data['btc_total_bitcoins'], 'blue')\n",
    "axes[1].set_xlabel('time')\n",
    "axes[1].set_ylabel('btc_total_bitcoins')\n",
    "\n",
    "axes[2].plot(data['btc_transaction_fees'], 'brown')\n",
    "axes[2].set_xlabel('time')\n",
    "axes[2].set_ylabel('btc_transaction_fees')\n",
    "### 代码结束 ###"
   ]
  },
  {
   "cell_type": "markdown",
   "metadata": {},
   "source": [
    "<font color='red'><i class=\"fa fa-check-square\" aria-hidden=\"true\"> 挑战</i></font>：划分 `data` 数据集，使得训练集占 `70%`，而测试集占 `30%`。"
   ]
  },
  {
   "cell_type": "code",
   "execution_count": null,
   "metadata": {},
   "outputs": [],
   "source": [
    "def split_dataset():\n",
    "    \"\"\"\n",
    "    参数:\n",
    "    无\n",
    "\n",
    "    返回:\n",
    "    X_train, y_train, X_test, y_test -- 训练集特征、训练集目标、测试集特征、测试集目标\n",
    "    \"\"\"\n",
    "    \n",
    "    ### 代码开始 ### (≈ 6 行代码)\n",
    "    train_data = data[:int(len(data)*0.7)]\n",
    "    test_data = data[int(len(data)*0.7):]\n",
    "    \n",
    "    X_train = train_data[['btc_total_bitcoins', 'btc_transaction_fees']]\n",
    "    y_train = train_data[['btc_market_price']]\n",
    "    \n",
    "    X_test = test_data[['btc_total_bitcoins', 'btc_transaction_fees']]\n",
    "    y_test = test_data[['btc_market_price']]\n",
    "    ### 代码结束 ###\n",
    "    \n",
    "    return X_train, y_train, X_test, y_test"
   ]
  },
  {
   "cell_type": "markdown",
   "metadata": {},
   "source": [
    "<font color='red'><i class=\"fa fa-check-square\" aria-hidden=\"true\"> 挑战</i></font>：构建 3 次多项式回归预测模型"
   ]
  },
  {
   "cell_type": "code",
   "execution_count": null,
   "metadata": {},
   "outputs": [],
   "source": [
    "def poly3():\n",
    "    \n",
    "    \"\"\"\n",
    "    参数:\n",
    "    无\n",
    "\n",
    "    返回:\n",
    "    mae -- 预测结果的 MAE 评价指标\n",
    "    \"\"\"\n",
    "    \n",
    "    ### 代码开始 ### (≈ 7 行代码)\n",
    "    poly_features = PolynomialFeatures(degree=3, include_bias=False)\n",
    "    poly_X_train = poly_features.fit_transform(X_train)\n",
    "    poly_X_test = poly_features.fit_transform(X_test)\n",
    "\n",
    "    model = LinearRegression()\n",
    "    model.fit(poly_X_train, y_train)\n",
    "    pre_y = model.predict(poly_X_test)\n",
    "    \n",
    "    mae = mean_absolute_error(y_test, pre_y.flatten())\n",
    "    ### 代码结束 ###\n",
    "    \n",
    "    return mae"
   ]
  },
  {
   "cell_type": "markdown",
   "metadata": {},
   "source": [
    "<font color='red'><i class=\"fa fa-check-square\" aria-hidden=\"true\"> 挑战</i></font>：计算 `1,2,...,10` 次多项式回归预测结果的 `MSE` 评价指标"
   ]
  },
  {
   "cell_type": "code",
   "execution_count": null,
   "metadata": {},
   "outputs": [],
   "source": [
    "from sklearn.pipeline import make_pipeline\n",
    "from sklearn.metrics import mean_squared_error\n",
    "\n",
    "def poly_plot(N):\n",
    " \n",
    "    \"\"\"\n",
    "    参数:\n",
    "    N -- 标量, 多项式次数\n",
    "\n",
    "    返回:\n",
    "    mse -- N 次多项式预测结果的 MSE 评价指标列表\n",
    "    \"\"\"\n",
    "    \n",
    "    m = 1\n",
    "    mse = []\n",
    "    \n",
    "    ### 代码开始 ### (≈ 6 行代码)\n",
    "    while m <= N:\n",
    "        model = make_pipeline(PolynomialFeatures(m, include_bias=False), LinearRegression())\n",
    "        model.fit(X_train, y_train)\n",
    "        pre_y = model.predict(X_test)\n",
    "        mse.append(mean_squared_error(y_test, pre_y.flatten()))\n",
    "        m = m + 1\n",
    "    \n",
    "    ### 代码结束 ###\n",
    "    \n",
    "    return mse"
   ]
  },
  {
   "cell_type": "markdown",
   "metadata": {},
   "source": [
    "<font color='red'><i class=\"fa fa-check-square\" aria-hidden=\"true\"> 挑战</i></font>：将 `MSE` 评价指标绘制成线型图"
   ]
  },
  {
   "cell_type": "code",
   "execution_count": null,
   "metadata": {},
   "outputs": [],
   "source": [
    "mse = poly_plot(10)\n",
    "\n",
    "### 代码开始 ### (≈ 2 行代码)\n",
    "plt.plot([i for i in range(1, 11)], mse, 'r')\n",
    "plt.scatter([i for i in range(1, 11)], mse)\n",
    "### 代码结束 ###\n",
    "\n",
    "### 解法二 ###\n",
    "plt.plot(mse, marker='-o')\n",
    "\n",
    "plt.title(\"MSE\")\n",
    "plt.xlabel(\"N\")\n",
    "plt.ylabel(\"MSE\")"
   ]
  },
  {
   "cell_type": "markdown",
   "metadata": {},
   "source": [
    "---"
   ]
  },
  {
   "cell_type": "markdown",
   "metadata": {},
   "source": [
    "<img src=\"https://doc.shiyanlou.com/document-uid214893labid7506timestamp1545810029884.png\">"
   ]
  }
 ],
 "metadata": {
  "kernelspec": {
   "display_name": "Python 3",
   "language": "python",
   "name": "python3"
  },
  "language_info": {
   "codemirror_mode": {
    "name": "ipython",
    "version": 3
   },
   "file_extension": ".py",
   "mimetype": "text/x-python",
   "name": "python",
   "nbconvert_exporter": "python",
   "pygments_lexer": "ipython3",
   "version": "3.6.8"
  }
 },
 "nbformat": 4,
 "nbformat_minor": 2
}
