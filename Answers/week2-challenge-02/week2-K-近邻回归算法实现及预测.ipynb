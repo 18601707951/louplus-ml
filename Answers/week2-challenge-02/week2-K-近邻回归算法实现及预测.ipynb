{
 "cells": [
  {
   "cell_type": "markdown",
   "metadata": {},
   "source": [
    "<a target=\"_blank\" href=\"https://shiyanlou.com/louplus/ml\"><img style=\"float: right;\" src=\"https://doc.shiyanlou.com/document-uid214893labid7506timestamp1555400601684.png\"></a>"
   ]
  },
  {
   "cell_type": "markdown",
   "metadata": {},
   "source": [
    "## K 近邻回归算法实现及预测"
   ]
  },
  {
   "cell_type": "markdown",
   "metadata": {},
   "source": [
    "---"
   ]
  },
  {
   "cell_type": "markdown",
   "metadata": {},
   "source": [
    "<i class=\"fa fa-exclamation-circle\" aria-hidden=\"true\"> 以下内容仅包含挑战需学员补充部分的参考答案，完整挑战请到原课程页面查看。</i>"
   ]
  },
  {
   "cell_type": "markdown",
   "metadata": {},
   "source": [
    "---"
   ]
  },
  {
   "cell_type": "markdown",
   "metadata": {},
   "source": [
    "<font color='red'><i class=\"fa fa-check-square\" aria-hidden=\"true\"> 挑战</i></font>：根据上述图示和说明，实现 K 近邻回归算法。"
   ]
  },
  {
   "cell_type": "code",
   "execution_count": null,
   "metadata": {},
   "outputs": [],
   "source": [
    "def knn_regression(train_data, train_labels, test_data, k):\n",
    "    \"\"\"\n",
    "    参数:\n",
    "    train_data -- 训练数据特征 numpy.ndarray.2d\n",
    "    train_labels -- 训练数据目标 numpy.ndarray.1d\n",
    "    test_data -- 测试数据特征 numpy.ndarray.2d\n",
    "    k -- k 值\n",
    "\n",
    "    返回:\n",
    "    test_labels -- 训练数据目标 numpy.ndarray.1d\n",
    "    \"\"\"\n",
    "    \n",
    "    ### 代码开始 ### (≈ 10 行代码)\n",
    "    test_labels = np.array([])  # 创建一个空的数组用于存放预测结果\n",
    "    for X_test in test_data:\n",
    "        distances = np.array([])\n",
    "        for each_X in train_data:  # 使用欧式距离计算数据相似度\n",
    "            d = np.sqrt(np.sum(np.square(X_test - each_X)))\n",
    "            distances = np.append(distances, d)\n",
    "        sorted_distance_index = distances.argsort()  # 获取按距离大小排序后的索引\n",
    "        k_labels = train_labels[sorted_distance_index[:k]]\n",
    "        y_test = np.mean(k_labels)\n",
    "        test_labels = np.append(test_labels, y_test)\n",
    "    ### 代码结束 ###\n",
    "    \n",
    "    return test_labels"
   ]
  },
  {
   "cell_type": "markdown",
   "metadata": {},
   "source": [
    "---"
   ]
  },
  {
   "cell_type": "markdown",
   "metadata": {},
   "source": [
    "<img src=\"https://doc.shiyanlou.com/document-uid214893labid7506timestamp1545810029884.png\">"
   ]
  }
 ],
 "metadata": {
  "kernelspec": {
   "display_name": "Python 3",
   "language": "python",
   "name": "python3"
  },
  "language_info": {
   "codemirror_mode": {
    "name": "ipython",
    "version": 3
   },
   "file_extension": ".py",
   "mimetype": "text/x-python",
   "name": "python",
   "nbconvert_exporter": "python",
   "pygments_lexer": "ipython3",
   "version": "3.6.8"
  }
 },
 "nbformat": 4,
 "nbformat_minor": 2
}
