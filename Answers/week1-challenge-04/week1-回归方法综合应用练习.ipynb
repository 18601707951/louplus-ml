{
 "cells": [
  {
   "cell_type": "markdown",
   "metadata": {},
   "source": [
    "<img style=\"float: right;\" src=\"https://doc.shiyanlou.com/document-uid214893labid7506timestamp1555400601684.png\">"
   ]
  },
  {
   "cell_type": "markdown",
   "metadata": {},
   "source": [
    "## 回归方法综合应用练习"
   ]
  },
  {
   "cell_type": "markdown",
   "metadata": {},
   "source": [
    "---"
   ]
  },
  {
   "cell_type": "markdown",
   "metadata": {},
   "source": [
    "<i class=\"fa fa-exclamation-circle\" aria-hidden=\"true\"> 以下内容仅保留挑战参考答案代码部分，完整挑战请到原课程页面查看。</i>"
   ]
  },
  {
   "cell_type": "markdown",
   "metadata": {},
   "source": [
    "---"
   ]
  },
  {
   "cell_type": "markdown",
   "metadata": {},
   "source": [
    "<font color='red'><i class=\"fa fa-check-square\" aria-hidden=\"true\"> 挑战</i></font>：使用 SciPy 提供的普通最小二乘法分别计算 3 个特征与目标之间的一元线性回归模型拟合参数。"
   ]
  },
  {
   "cell_type": "code",
   "execution_count": null,
   "metadata": {},
   "outputs": [],
   "source": [
    "import numpy as np\n",
    "from scipy.optimize import leastsq\n",
    "\n",
    "### 代码开始 ### (≈ 10 行代码)\n",
    "p_init = np.random.randn(2)\n",
    "\n",
    "def func(p, x):\n",
    "    w0, w1 = p\n",
    "    f = w0 + w1*x\n",
    "    return f\n",
    "\n",
    "def err_func(p, x, y):\n",
    "    ret = func(p, x) - y\n",
    "    return ret\n",
    "\n",
    "params_tv = leastsq(err_func, p_init, args=(data.tv, data.sales))\n",
    "params_radio = leastsq(err_func, p_init, args=(data.radio, data.sales))\n",
    "params_newspaper = leastsq(err_func, p_init, args=(data.newspaper, data.sales))\n",
    "### 代码结束 ###\n",
    "\n",
    "params_tv[0], params_radio[0], params_newspaper[0]"
   ]
  },
  {
   "cell_type": "markdown",
   "metadata": {},
   "source": [
    "<font color='red'><i class=\"fa fa-check-square\" aria-hidden=\"true\"> 挑战</i></font>：以横向子图的方式绘制 3 个特征分别与目标之间的散点图，并添加线性拟合直线。"
   ]
  },
  {
   "cell_type": "code",
   "execution_count": null,
   "metadata": {
    "scrolled": true
   },
   "outputs": [],
   "source": [
    "from matplotlib import pyplot as plt\n",
    "%matplotlib inline\n",
    "\n",
    "### 代码开始 ### (≈ 10 行代码)\n",
    "fig, axes = plt.subplots(1, 3, figsize=(16, 4))\n",
    "\n",
    "data.plot(kind='scatter', x='tv', y='sales', ax=axes[0])\n",
    "data.plot(kind='scatter', x='radio', y='sales', ax=axes[1])\n",
    "data.plot(kind='scatter', x='newspaper', y='sales', ax=axes[2])\n",
    "\n",
    "x_tv = np.array([data.tv.min(), data.tv.max()])\n",
    "axes[0].plot(x_tv, params_tv[0][1]*x_tv + params_tv[0][0], 'r')\n",
    "\n",
    "x_radio = np.array([data.radio.min(), data.radio.max()])\n",
    "axes[1].plot(x_radio, params_radio[0][1]*x_radio + params_radio[0][0], 'r')\n",
    "\n",
    "x_newspaper = np.array([data.newspaper.min(), data.newspaper.max()])\n",
    "axes[2].plot(x_newspaper, params_newspaper[0][1] *\n",
    "             x_newspaper + params_newspaper[0][0], 'r')\n",
    "### 代码结束 ###"
   ]
  },
  {
   "cell_type": "markdown",
   "metadata": {},
   "source": [
    "<font color='red'><i class=\"fa fa-check-square\" aria-hidden=\"true\"> 挑战</i></font>：使用 scikit-learn 提供的线性回归方法建立由 3 个特征与目标组成的多元线性回归模型。"
   ]
  },
  {
   "cell_type": "code",
   "execution_count": null,
   "metadata": {},
   "outputs": [],
   "source": [
    "from sklearn.linear_model import LinearRegression\n",
    "\n",
    "### 代码开始 ### (≈ 4 行代码)\n",
    "X = data[['tv', 'radio', 'newspaper']]\n",
    "y = data.sales\n",
    "\n",
    "model = LinearRegression()\n",
    "model.fit(X, y)\n",
    "### 代码结束 ###\n",
    "\n",
    "model.coef_, model.intercept_  # 返回模型自变量系数和截距项"
   ]
  },
  {
   "cell_type": "markdown",
   "metadata": {},
   "source": [
    "<font color='red'><i class=\"fa fa-check-square\" aria-hidden=\"true\"> 挑战</i></font>：使用 statsmodels 库提供的相关方法来完成上面多元回归模型的拟合优度检验和变量显著性检验。"
   ]
  },
  {
   "cell_type": "code",
   "execution_count": null,
   "metadata": {},
   "outputs": [],
   "source": [
    "import statsmodels.formula.api as smf\n",
    "\n",
    "### 代码开始 ### (≈ 3 行代码)\n",
    "results = smf.ols(formula='sales ~ tv + radio + newspaper', data=data).fit()\n",
    "### 代码结束 ###\n",
    "\n",
    "results.summary2() # 输出模型摘要"
   ]
  },
  {
   "cell_type": "markdown",
   "metadata": {},
   "source": [
    "---"
   ]
  },
  {
   "cell_type": "markdown",
   "metadata": {},
   "source": [
    "<img src=\"https://doc.shiyanlou.com/document-uid214893labid7506timestamp1545810029884.png\">"
   ]
  }
 ],
 "metadata": {
  "kernelspec": {
   "display_name": "Python 3",
   "language": "python",
   "name": "python3"
  },
  "language_info": {
   "codemirror_mode": {
    "name": "ipython",
    "version": 3
   },
   "file_extension": ".py",
   "mimetype": "text/x-python",
   "name": "python",
   "nbconvert_exporter": "python",
   "pygments_lexer": "ipython3",
   "version": "3.6.8"
  }
 },
 "nbformat": 4,
 "nbformat_minor": 2
}
