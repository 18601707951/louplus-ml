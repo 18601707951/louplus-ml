{
 "cells": [
  {
   "cell_type": "markdown",
   "metadata": {},
   "source": [
    "# <font color='brown'>楼 + 机器学习实战</font>\n",
    "\n",
    "# 挑战：使用 Sarsa 进行迷宫挑战"
   ]
  },
  {
   "cell_type": "markdown",
   "metadata": {},
   "source": [
    "## 挑战介绍\n",
    "\n",
    "在基于价值的强化学习中我们主要实现了 Q-Learning 算法，事实上 Sarsa 算法和 Q-Learning 最大的区别就在于 Q-Table 的更新，本次实验，结合实验中 Q-Learning 的算法实现，并根据 Sarsa 的算法流程来完成迷宫挑战。"
   ]
  },
  {
   "cell_type": "markdown",
   "metadata": {},
   "source": [
    "## 挑战知识点"
   ]
  },
  {
   "cell_type": "markdown",
   "metadata": {},
   "source": [
    "- 基于价值的强化学习原理及实现\n",
    "- Sarsa 算法的 Q-Table 更新"
   ]
  },
  {
   "cell_type": "markdown",
   "metadata": {},
   "source": [
    "---"
   ]
  },
  {
   "cell_type": "markdown",
   "metadata": {},
   "source": [
    "## Q-Table 初始化"
   ]
  },
  {
   "cell_type": "markdown",
   "metadata": {},
   "source": [
    "**<font color='red'>挑战</font>**：从实验中学习到不论是 Q-Learning 还是 Sarsa，他们的核心都是 Q-Table ，首先对 Q-Table 进行初始化。 "
   ]
  },
  {
   "cell_type": "markdown",
   "metadata": {},
   "source": [
    "**<font color='brown'>要求</font>**：构造一个 $16*4$ 的 DataFrame 表（16 个 state，4 个 action）作为 Q-Table。"
   ]
  },
  {
   "cell_type": "markdown",
   "metadata": {},
   "source": [
    "**<font color='green'>提示</font>**：和实验中 Q-Learning 初始化方式相同。"
   ]
  },
  {
   "cell_type": "code",
   "execution_count": 1,
   "metadata": {},
   "outputs": [],
   "source": [
    "import numpy as np\n",
    "import pandas as pd\n",
    "import time\n",
    "from IPython import display\n",
    "\n",
    "def init_q_table():\n",
    "    \n",
    "    #### 代码开始 ####  (≈ 2 行代码)  \n",
    "    actions = np.array(['up','down','left','right'])\n",
    "    q_table = pd.DataFrame(np.zeros((16, len(actions))), columns=actions) #初始化 Q-Table 全为0\n",
    "    #### 代码结束 ####\n",
    "    \n",
    "    return q_table"
   ]
  },
  {
   "cell_type": "code",
   "execution_count": 2,
   "metadata": {},
   "outputs": [
    {
     "data": {
      "text/html": [
       "<div>\n",
       "<style scoped>\n",
       "    .dataframe tbody tr th:only-of-type {\n",
       "        vertical-align: middle;\n",
       "    }\n",
       "\n",
       "    .dataframe tbody tr th {\n",
       "        vertical-align: top;\n",
       "    }\n",
       "\n",
       "    .dataframe thead th {\n",
       "        text-align: right;\n",
       "    }\n",
       "</style>\n",
       "<table border=\"1\" class=\"dataframe\">\n",
       "  <thead>\n",
       "    <tr style=\"text-align: right;\">\n",
       "      <th></th>\n",
       "      <th>up</th>\n",
       "      <th>down</th>\n",
       "      <th>left</th>\n",
       "      <th>right</th>\n",
       "    </tr>\n",
       "  </thead>\n",
       "  <tbody>\n",
       "    <tr>\n",
       "      <th>0</th>\n",
       "      <td>0.0</td>\n",
       "      <td>0.0</td>\n",
       "      <td>0.0</td>\n",
       "      <td>0.0</td>\n",
       "    </tr>\n",
       "    <tr>\n",
       "      <th>1</th>\n",
       "      <td>0.0</td>\n",
       "      <td>0.0</td>\n",
       "      <td>0.0</td>\n",
       "      <td>0.0</td>\n",
       "    </tr>\n",
       "    <tr>\n",
       "      <th>2</th>\n",
       "      <td>0.0</td>\n",
       "      <td>0.0</td>\n",
       "      <td>0.0</td>\n",
       "      <td>0.0</td>\n",
       "    </tr>\n",
       "    <tr>\n",
       "      <th>3</th>\n",
       "      <td>0.0</td>\n",
       "      <td>0.0</td>\n",
       "      <td>0.0</td>\n",
       "      <td>0.0</td>\n",
       "    </tr>\n",
       "    <tr>\n",
       "      <th>4</th>\n",
       "      <td>0.0</td>\n",
       "      <td>0.0</td>\n",
       "      <td>0.0</td>\n",
       "      <td>0.0</td>\n",
       "    </tr>\n",
       "    <tr>\n",
       "      <th>5</th>\n",
       "      <td>0.0</td>\n",
       "      <td>0.0</td>\n",
       "      <td>0.0</td>\n",
       "      <td>0.0</td>\n",
       "    </tr>\n",
       "    <tr>\n",
       "      <th>6</th>\n",
       "      <td>0.0</td>\n",
       "      <td>0.0</td>\n",
       "      <td>0.0</td>\n",
       "      <td>0.0</td>\n",
       "    </tr>\n",
       "    <tr>\n",
       "      <th>7</th>\n",
       "      <td>0.0</td>\n",
       "      <td>0.0</td>\n",
       "      <td>0.0</td>\n",
       "      <td>0.0</td>\n",
       "    </tr>\n",
       "    <tr>\n",
       "      <th>8</th>\n",
       "      <td>0.0</td>\n",
       "      <td>0.0</td>\n",
       "      <td>0.0</td>\n",
       "      <td>0.0</td>\n",
       "    </tr>\n",
       "    <tr>\n",
       "      <th>9</th>\n",
       "      <td>0.0</td>\n",
       "      <td>0.0</td>\n",
       "      <td>0.0</td>\n",
       "      <td>0.0</td>\n",
       "    </tr>\n",
       "    <tr>\n",
       "      <th>10</th>\n",
       "      <td>0.0</td>\n",
       "      <td>0.0</td>\n",
       "      <td>0.0</td>\n",
       "      <td>0.0</td>\n",
       "    </tr>\n",
       "    <tr>\n",
       "      <th>11</th>\n",
       "      <td>0.0</td>\n",
       "      <td>0.0</td>\n",
       "      <td>0.0</td>\n",
       "      <td>0.0</td>\n",
       "    </tr>\n",
       "    <tr>\n",
       "      <th>12</th>\n",
       "      <td>0.0</td>\n",
       "      <td>0.0</td>\n",
       "      <td>0.0</td>\n",
       "      <td>0.0</td>\n",
       "    </tr>\n",
       "    <tr>\n",
       "      <th>13</th>\n",
       "      <td>0.0</td>\n",
       "      <td>0.0</td>\n",
       "      <td>0.0</td>\n",
       "      <td>0.0</td>\n",
       "    </tr>\n",
       "    <tr>\n",
       "      <th>14</th>\n",
       "      <td>0.0</td>\n",
       "      <td>0.0</td>\n",
       "      <td>0.0</td>\n",
       "      <td>0.0</td>\n",
       "    </tr>\n",
       "    <tr>\n",
       "      <th>15</th>\n",
       "      <td>0.0</td>\n",
       "      <td>0.0</td>\n",
       "      <td>0.0</td>\n",
       "      <td>0.0</td>\n",
       "    </tr>\n",
       "  </tbody>\n",
       "</table>\n",
       "</div>"
      ],
      "text/plain": [
       "     up  down  left  right\n",
       "0   0.0   0.0   0.0    0.0\n",
       "1   0.0   0.0   0.0    0.0\n",
       "2   0.0   0.0   0.0    0.0\n",
       "3   0.0   0.0   0.0    0.0\n",
       "4   0.0   0.0   0.0    0.0\n",
       "5   0.0   0.0   0.0    0.0\n",
       "6   0.0   0.0   0.0    0.0\n",
       "7   0.0   0.0   0.0    0.0\n",
       "8   0.0   0.0   0.0    0.0\n",
       "9   0.0   0.0   0.0    0.0\n",
       "10  0.0   0.0   0.0    0.0\n",
       "11  0.0   0.0   0.0    0.0\n",
       "12  0.0   0.0   0.0    0.0\n",
       "13  0.0   0.0   0.0    0.0\n",
       "14  0.0   0.0   0.0    0.0\n",
       "15  0.0   0.0   0.0    0.0"
      ]
     },
     "execution_count": 2,
     "metadata": {},
     "output_type": "execute_result"
    }
   ],
   "source": [
    "init_q_table()"
   ]
  },
  {
   "cell_type": "markdown",
   "metadata": {},
   "source": [
    "**期望输出：**"
   ]
  },
  {
   "cell_type": "markdown",
   "metadata": {},
   "source": [
    "<table border=\"1\" class=\"dataframe\">\n",
    "  <thead>\n",
    "    <tr style=\"text-align: right\">\n",
    "      <th></th>\n",
    "      <th>up</th>\n",
    "      <th>down</th>\n",
    "      <th>left</th>\n",
    "      <th>right</th>\n",
    "    </tr>\n",
    "  </thead>\n",
    "  <tbody>\n",
    "    <tr>\n",
    "      <th>0</th>\n",
    "      <td>0.0</td>\n",
    "      <td>0.0</td>\n",
    "      <td>0.0</td>\n",
    "      <td>0.0</td>\n",
    "    </tr>\n",
    "    <tr>\n",
    "      <th>1</th>\n",
    "      <td>0.0</td>\n",
    "      <td>0.0</td>\n",
    "      <td>0.0</td>\n",
    "      <td>0.0</td>\n",
    "    </tr>\n",
    "    <tr>\n",
    "      <th>2</th>\n",
    "      <td>0.0</td>\n",
    "      <td>0.0</td>\n",
    "      <td>0.0</td>\n",
    "      <td>0.0</td>\n",
    "    </tr>\n",
    "    <tr>\n",
    "      <th>3</th>\n",
    "      <td>0.0</td>\n",
    "      <td>0.0</td>\n",
    "      <td>0.0</td>\n",
    "      <td>0.0</td>\n",
    "    </tr>\n",
    "    <tr>\n",
    "      <th>4</th>\n",
    "      <td>0.0</td>\n",
    "      <td>0.0</td>\n",
    "      <td>0.0</td>\n",
    "      <td>0.0</td>\n",
    "    </tr>\n",
    "    <tr>\n",
    "      <th>5</th>\n",
    "      <td>0.0</td>\n",
    "      <td>0.0</td>\n",
    "      <td>0.0</td>\n",
    "      <td>0.0</td>\n",
    "    </tr>\n",
    "    <tr>\n",
    "      <th>6</th>\n",
    "      <td>0.0</td>\n",
    "      <td>0.0</td>\n",
    "      <td>0.0</td>\n",
    "      <td>0.0</td>\n",
    "    </tr>\n",
    "    <tr>\n",
    "      <th>7</th>\n",
    "      <td>0.0</td>\n",
    "      <td>0.0</td>\n",
    "      <td>0.0</td>\n",
    "      <td>0.0</td>\n",
    "    </tr>\n",
    "    <tr>\n",
    "      <th>8</th>\n",
    "      <td>0.0</td>\n",
    "      <td>0.0</td>\n",
    "      <td>0.0</td>\n",
    "      <td>0.0</td>\n",
    "    </tr>\n",
    "    <tr>\n",
    "      <th>9</th>\n",
    "      <td>0.0</td>\n",
    "      <td>0.0</td>\n",
    "      <td>0.0</td>\n",
    "      <td>0.0</td>\n",
    "    </tr>\n",
    "    <tr>\n",
    "      <th>10</th>\n",
    "      <td>0.0</td>\n",
    "      <td>0.0</td>\n",
    "      <td>0.0</td>\n",
    "      <td>0.0</td>\n",
    "    </tr>\n",
    "    <tr>\n",
    "      <th>11</th>\n",
    "      <td>0.0</td>\n",
    "      <td>0.0</td>\n",
    "      <td>0.0</td>\n",
    "      <td>0.0</td>\n",
    "    </tr>\n",
    "    <tr>\n",
    "      <th>12</th>\n",
    "      <td>0.0</td>\n",
    "      <td>0.0</td>\n",
    "      <td>0.0</td>\n",
    "      <td>0.0</td>\n",
    "    </tr>\n",
    "    <tr>\n",
    "      <th>13</th>\n",
    "      <td>0.0</td>\n",
    "      <td>0.0</td>\n",
    "      <td>0.0</td>\n",
    "      <td>0.0</td>\n",
    "    </tr>\n",
    "    <tr>\n",
    "      <th>14</th>\n",
    "      <td>0.0</td>\n",
    "      <td>0.0</td>\n",
    "      <td>0.0</td>\n",
    "      <td>0.0</td>\n",
    "    </tr>\n",
    "    <tr>\n",
    "      <th>15</th>\n",
    "      <td>0.0</td>\n",
    "      <td>0.0</td>\n",
    "      <td>0.0</td>\n",
    "      <td>0.0</td>\n",
    "    </tr>\n",
    "  </tbody>\n",
    "</table>"
   ]
  },
  {
   "cell_type": "markdown",
   "metadata": {},
   "source": [
    "## 动作选择"
   ]
  },
  {
   "cell_type": "markdown",
   "metadata": {},
   "source": [
    "**<font color='red'>挑战</font>**：使用 $\\epsilon-greedy$ 方法根据 Q-Table 进行动作选择。 "
   ]
  },
  {
   "cell_type": "markdown",
   "metadata": {},
   "source": [
    "**<font color='brown'>要求</font>**：在概率为 $epsilon$ 或 Q 值都为 0 的情况下，随机选择动作；此外，按照 Q 的最大值选择动作，并且动作用 `action` 表示。"
   ]
  },
  {
   "cell_type": "markdown",
   "metadata": {},
   "source": [
    "**<font color='green'>提示</font>**：这里可能会使用 if，else 语句判断，与实验中内容相同。"
   ]
  },
  {
   "cell_type": "code",
   "execution_count": 3,
   "metadata": {},
   "outputs": [],
   "source": [
    "def act_choose(state, q_table, epsilon):\n",
    "    \n",
    "    state_act = q_table.iloc[state,:]\n",
    "    actions=np.array(['up','down','left','right'])\n",
    "    \n",
    "    #### 代码开始 #### (≈ 4 行代码)\n",
    "    if (np.random.uniform() > epsilon or state_act.all() == 0):\n",
    "        action = np.random.choice(actions)\n",
    "    else:\n",
    "        action = state_act.idxmax()\n",
    "    #### 代码结束 #### \n",
    "\n",
    "    return action"
   ]
  },
  {
   "cell_type": "markdown",
   "metadata": {},
   "source": [
    "**运行测试：**"
   ]
  },
  {
   "cell_type": "code",
   "execution_count": 4,
   "metadata": {},
   "outputs": [
    {
     "data": {
      "text/plain": [
       "['left', 'right', 'right', 'right', 'left']"
      ]
     },
     "execution_count": 4,
     "metadata": {},
     "output_type": "execute_result"
    }
   ],
   "source": [
    "seed = np.random.RandomState(25) # 为了保证验证结果相同引入随机数种子\n",
    "a = seed.rand(16, 4)\n",
    "test_q_table = pd.DataFrame(a, columns=['up', 'down', 'left', 'right'])\n",
    "l = []\n",
    "for s in [1, 4, 7, 12, 14]:\n",
    "    l.append(act_choose(state=s, q_table=test_q_table, epsilon=1))\n",
    "l"
   ]
  },
  {
   "cell_type": "markdown",
   "metadata": {},
   "source": [
    "**期望输出：**"
   ]
  },
  {
   "cell_type": "markdown",
   "metadata": {},
   "source": [
    "<div align=\"center\">**`['left', 'right', 'right', 'right', 'left']`**</div>"
   ]
  },
  {
   "cell_type": "markdown",
   "metadata": {},
   "source": [
    "## 行为反馈\n",
    "\n",
    "在行为反馈中我们同样将 terminal 终点的奖励设为 `10`，将 hole 陷阱的惩罚设为 `-10`，同样为了尽快找到最短路径，每一步的惩罚为 `-1`。"
   ]
  },
  {
   "cell_type": "code",
   "execution_count": 5,
   "metadata": {},
   "outputs": [],
   "source": [
    "def env_feedback(state, action,hole,terminal):\n",
    "    reward = 0.\n",
    "    end = 0\n",
    "    a, b = state\n",
    "    if action == 'up':\n",
    "        a -= 1\n",
    "        if a < 0:a = 0\n",
    "        next_state = (a, b)  \n",
    "    elif action == 'down':\n",
    "        a += 1\n",
    "        if a >= 4:a = 3\n",
    "        next_state = (a, b)\n",
    "    elif action == 'left':\n",
    "        b -= 1\n",
    "        if b < 0:b = 0\n",
    "        next_state = (a, b)\n",
    "    elif action == 'right':\n",
    "        b += 1\n",
    "        if b >= 4:b = 3\n",
    "        next_state = (a, b)\n",
    "        \n",
    "    if next_state == terminal:\n",
    "        reward = 10.\n",
    "        end = 2\n",
    "    elif next_state == hole:\n",
    "        reward = -10.\n",
    "        end = 1\n",
    "    else:\n",
    "        reward = -1.\n",
    "        \n",
    "    return next_state, reward, end"
   ]
  },
  {
   "cell_type": "markdown",
   "metadata": {},
   "source": [
    "## Q-Table 更新"
   ]
  },
  {
   "cell_type": "markdown",
   "metadata": {},
   "source": [
    "**<font color='red'>挑战</font>**：通过学习我们知道 Sarsa 的 Q-Table 的更新公式为： $Q(s_{t},a_{t})=(1-\\alpha) \\cdot Q(s_{t},a_{t})+\\alpha \\cdot (r_{t}+\\gamma \\cdot Q(s_{t+1},a_{t+1}))$ ，根据公式完善 Q-Table 更新函数。 "
   ]
  },
  {
   "cell_type": "markdown",
   "metadata": {},
   "source": [
    "**<font color='green'>提示</font>**：结合 Q-Learning 中 Q-Table 更新函数进行修改，查看 DataFrame 特定值时使用 `.loc[]`。"
   ]
  },
  {
   "cell_type": "code",
   "execution_count": 6,
   "metadata": {},
   "outputs": [],
   "source": [
    "def update_q_table(q_table,state,action,next_state,next_action,terminal,gamma,alpha,reward):\n",
    "\n",
    "    x, y = state\n",
    "    next_x, next_y = next_state\n",
    "    q_original= q_table.loc[x * 4 + y, action]\n",
    "    \n",
    "    if next_state != terminal:\n",
    "        ### 代码开始 ### (≈ 1 行代码)\n",
    "        q_predict = reward + gamma * q_table.loc[next_x * 4 + next_y, next_action] # 不通过 .max() 选择\n",
    "        ### 代码结束 ###\n",
    "    else:\n",
    "        q_predict = reward\n",
    "        \n",
    "    #### 代码开始 ### (≈ 1 行代码)   \n",
    "    q_table.loc[x * 4 + y, action] = (1-alpha) * q_original + alpha * q_predict # 和 Q-Learning 一致\n",
    "    ### 代码结束 ###\n",
    "    \n",
    "    return q_table"
   ]
  },
  {
   "cell_type": "markdown",
   "metadata": {},
   "source": [
    "**运行测试：（仅执行一次，重复执行请重启 kernel）**"
   ]
  },
  {
   "cell_type": "code",
   "execution_count": 7,
   "metadata": {},
   "outputs": [
    {
     "data": {
      "text/plain": [
       "8.740755431411795"
      ]
     },
     "execution_count": 7,
     "metadata": {},
     "output_type": "execute_result"
    }
   ],
   "source": [
    "new_q_table = update_q_table(q_table=test_q_table,state=(2,2),action='right',\n",
    "                             next_state=(2,3),next_action='down',terminal=(3,2),\n",
    "                             gamma =0.9 ,alpha =0.8 ,reward=10)\n",
    "\n",
    "new_q_table.loc[10,'right']"
   ]
  },
  {
   "cell_type": "markdown",
   "metadata": {},
   "source": [
    "**期望输出：（仅执行一次得到的结果）**"
   ]
  },
  {
   "cell_type": "markdown",
   "metadata": {},
   "source": [
    "<div align=\"center\">**`8.740755431411795`**</div>"
   ]
  },
  {
   "cell_type": "markdown",
   "metadata": {},
   "source": [
    "## 状态展示\n",
    "同样为了展示强化学习效果，定义一个状态展示函数。"
   ]
  },
  {
   "cell_type": "code",
   "execution_count": 8,
   "metadata": {},
   "outputs": [],
   "source": [
    "def show_state(end, state, episode, step, q_table):\n",
    "\n",
    "    terminal = (3, 2)\n",
    "    hole = (2, 1)\n",
    "    env = np.array([['_ '] * 4] * 4)\n",
    "    env[terminal] = '$ '\n",
    "    env[hole] = '# '\n",
    "    env[state] = 'L '\n",
    "    interaction = ''\n",
    "    for i in env:\n",
    "        interaction += ''.join(i) + '\\n'\n",
    "\n",
    "    if state == terminal:\n",
    "        message = 'EPISODE: {}, STEP: {}'.format(episode, step)\n",
    "        interaction += message\n",
    "        display.clear_output(wait=True)\n",
    "        print(interaction)\n",
    "        print(\"\\n\"+\"q_table:\")\n",
    "        print(q_table)\n",
    "        time.sleep(3)  # 在成功到终点时，等待 3 秒\n",
    "    else:\n",
    "        display.clear_output(wait=True)\n",
    "        print(interaction)\n",
    "        print(\"\\n\"+\"q_table:\")\n",
    "        print(q_table)\n",
    "        time.sleep(0.3)  # 在这里控制每走一步所需要时间"
   ]
  },
  {
   "cell_type": "markdown",
   "metadata": {},
   "source": [
    "## Sarsa 算法实现"
   ]
  },
  {
   "attachments": {
    "q-learning.png": {
     "image/png": "[encoded data removed]"
    }
   },
   "cell_type": "markdown",
   "metadata": {},
   "source": [
    "![q-learning.png](attachment:q-learning.png)"
   ]
  },
  {
   "cell_type": "markdown",
   "metadata": {},
   "source": [
    "**<font color='red'>挑战</font>**：顺利完成以上几个函数后，根据算法流程实现 Sarsa 算法。 "
   ]
  },
  {
   "cell_type": "markdown",
   "metadata": {},
   "source": [
    "**<font color='green'>提示</font>**：结合 Q-Learning 完成代码。"
   ]
  },
  {
   "cell_type": "code",
   "execution_count": 9,
   "metadata": {},
   "outputs": [],
   "source": [
    "def sarsa(max_episodes, alpha, gamma, epsilon):\n",
    "    q_table = init_q_table()\n",
    "    terminal = (3, 2)\n",
    "    hole = (2, 1)\n",
    "    episodes = 0\n",
    "    while(episodes < max_episodes):\n",
    "        step = 0\n",
    "        state = (0, 0)\n",
    "        end = 0\n",
    "        show_state(end, state, episodes, step, q_table)\n",
    "        x, y = state\n",
    "\n",
    "        # 代码开始 ### （≈ 1 行代码)\n",
    "        action = act_choose(x * 4 + y, q_table, epsilon)  # 动作选择\n",
    "        ### 代码结束 ###\n",
    "\n",
    "        while(end == 0):\n",
    "            next_state, reward, end = env_feedback(state, action, hole, terminal)  # 环境反馈\n",
    "            next_x, next_y = next_state\n",
    "            next_action = act_choose(next_x * 4 + next_y, q_table, epsilon)  # 动作选择\n",
    "\n",
    "            # 代码开始 ### （≈ 3 行代码)\n",
    "            q_table = update_q_table(\n",
    "                q_table,state,action,next_state,next_action,terminal,gamma,alpha,reward)  # q-table 更新\n",
    "            state = next_state\n",
    "            action = next_action\n",
    "            ### 代码结束 ###\n",
    "\n",
    "            step += 1\n",
    "            show_state(end, state, episodes, step, q_table)\n",
    "        if end == 2:\n",
    "            episodes += 1"
   ]
  },
  {
   "cell_type": "code",
   "execution_count": 10,
   "metadata": {
    "scrolled": false
   },
   "outputs": [
    {
     "name": "stdout",
     "output_type": "stream",
     "text": [
      "_ _ _ _ \n",
      "_ _ _ _ \n",
      "_ # _ _ \n",
      "_ _ L _ \n",
      "EPISODE: 19, STEP: 13\n",
      "\n",
      "q_table:\n",
      "          up       down      left     right\n",
      "0  -5.983978  -5.447676 -5.014695 -3.217556\n",
      "1  -3.630029  -3.485344 -3.642927 -3.484472\n",
      "2  -2.993494   2.280013 -3.206195 -3.391426\n",
      "3  -2.286848  -2.374375 -3.507846 -2.880911\n",
      "4  -1.197637  -6.782720 -3.545806 -3.386437\n",
      "5  -3.205645  -9.600000 -3.571239 -5.068251\n",
      "6  -2.462874   7.409664 -2.962098  4.570757\n",
      "7  -2.791380   6.199998 -2.227200  3.302486\n",
      "8  -1.491200   0.000000 -9.484800 -9.984000\n",
      "9   0.000000   0.000000  0.000000  0.000000\n",
      "10 -1.873664  10.000000 -9.600000 -1.376000\n",
      "11  0.642392   0.038400  8.000000  0.026368\n",
      "12  0.000000   0.000000  0.000000  0.000000\n",
      "13  0.000000   0.000000  0.000000  0.000000\n",
      "14  0.000000   0.000000  0.000000  0.000000\n",
      "15  0.000000   0.000000  9.984000  6.182400\n"
     ]
    }
   ],
   "source": [
    "sarsa(max_episodes = 20, alpha = 0.8, gamma = 0.9, epsilon = 0.9)"
   ]
  },
  {
   "cell_type": "markdown",
   "metadata": {},
   "source": [
    "**参考输出：**"
   ]
  },
  {
   "cell_type": "markdown",
   "metadata": {},
   "source": [
    "<pre>_ _ _ _ \n",
    "_ _ _ _ \n",
    "_ # _ _ \n",
    "_ _ L _ \n",
    "EPISODE: 19, STEP: 5\n",
    "\n",
    "q_table:\n",
    "          up       down      left     right\n",
    "0  -4.421534  -3.457078 -3.936450 -4.152483\n",
    "1  -3.409185  -9.062400 -3.433181 -3.596441\n",
    "2  -2.213120   4.590499 -3.514029 -3.414613\n",
    "3  -1.536000  -1.574400 -2.908418 -3.936450\n",
    "4  -4.109114  -2.730086 -2.836070 -2.548000\n",
    "5  -2.836070  -9.984000 -2.065920 -1.720000\n",
    "6  -2.850867   8.000000 -2.562662 -0.800000\n",
    "7  -2.342144  -0.800000 -1.982720  0.000000\n",
    "8  -2.509531  -2.348544 -2.213120 -8.000000\n",
    "9   0.000000   0.000000  0.000000  0.000000\n",
    "10 -3.033926  10.000000 -8.000000 -0.800000\n",
    "11 -2.844488   0.000000  0.000000 -0.800000\n",
    "12 -2.766862  -1.536000 -1.536000  6.142464\n",
    "13  0.000000   0.000000 -2.325504  9.600000\n",
    "14  0.000000   0.000000  0.000000  0.000000\n",
    "15  0.000000   0.000000  0.000000  0.000000\n",
    "</pre>"
   ]
  },
  {
   "cell_type": "markdown",
   "metadata": {},
   "source": [
    "注：由于 `q_table` 的值是随机的，上面的实验结果仅供参考。只要机器在环境中移动，随着迭代次数的增加，走的步数变少，最终接近 5 步即可。 "
   ]
  },
  {
   "cell_type": "markdown",
   "metadata": {},
   "source": [
    "---"
   ]
  },
  {
   "cell_type": "markdown",
   "metadata": {},
   "source": [
    "<div style=\"color: #999;font-size: 12px;font-style: italic;\">*本课程内容，由作者授权实验楼发布，未经允许，禁止转载、下载及非法传播。</div>"
   ]
  }
 ],
 "metadata": {
  "kernelspec": {
   "display_name": "Python 3",
   "language": "python",
   "name": "python3"
  },
  "language_info": {
   "codemirror_mode": {
    "name": "ipython",
    "version": 3
   },
   "file_extension": ".py",
   "mimetype": "text/x-python",
   "name": "python",
   "nbconvert_exporter": "python",
   "pygments_lexer": "ipython3",
   "version": "3.6.6"
  }
 },
 "nbformat": 4,
 "nbformat_minor": 2
}
