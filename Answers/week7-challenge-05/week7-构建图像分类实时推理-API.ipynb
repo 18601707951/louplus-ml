{
 "cells": [
  {
   "cell_type": "markdown",
   "metadata": {},
   "source": [
    "<a target=\"_blank\" href=\"https://shiyanlou.com/louplus/ml\"><img style=\"float: right;\" src=\"https://doc.shiyanlou.com/document-uid214893labid7506timestamp1555400601684.png\"></a>"
   ]
  },
  {
   "cell_type": "markdown",
   "metadata": {},
   "source": [
    "# 构建图像分类实时推理 API "
   ]
  },
  {
   "cell_type": "markdown",
   "metadata": {},
   "source": [
    "---"
   ]
  },
  {
   "cell_type": "markdown",
   "metadata": {},
   "source": [
    "<i class=\"fa fa-exclamation-circle\" aria-hidden=\"true\"> 以下内容仅包含挑战需学员补充部分的参考答案，完整挑战请到原课程页面查看。</i>"
   ]
  },
  {
   "cell_type": "markdown",
   "metadata": {},
   "source": [
    "---"
   ]
  },
  {
   "cell_type": "markdown",
   "metadata": {},
   "source": [
    "- [<i class=\"fa fa-external-link-square\" aria-hidden=\"true\"> 完整代码实现 GitHub 仓库</i>](https://github.com/huhuhang/mobilenet_v2-imagenet-api)\n",
    "- [<i class=\"fa fa-external-link-square\" aria-hidden=\"true\"> 一键可执行 Kaggle Kernels</i>](https://www.kaggle.com/louplus/mobilenet-api)"
   ]
  },
  {
   "cell_type": "markdown",
   "metadata": {},
   "source": [
    "---"
   ]
  },
  {
   "cell_type": "markdown",
   "metadata": {},
   "source": [
    "<img src=\"https://doc.shiyanlou.com/document-uid214893labid7506timestamp1545810029884.png\">"
   ]
  }
 ],
 "metadata": {
  "kernelspec": {
   "display_name": "Python 3",
   "language": "python",
   "name": "python3"
  },
  "language_info": {
   "codemirror_mode": {
    "name": "ipython",
    "version": 3
   },
   "file_extension": ".py",
   "mimetype": "text/x-python",
   "name": "python",
   "nbconvert_exporter": "python",
   "pygments_lexer": "ipython3",
   "version": "3.6.8"
  }
 },
 "nbformat": 4,
 "nbformat_minor": 2
}
