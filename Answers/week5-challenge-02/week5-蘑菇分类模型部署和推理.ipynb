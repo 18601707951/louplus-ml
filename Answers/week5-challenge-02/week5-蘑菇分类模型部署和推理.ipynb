{
 "cells": [
  {
   "cell_type": "markdown",
   "metadata": {},
   "source": [
    "<a target=\"_blank\" href=\"https://shiyanlou.com/louplus/ml\"><img style=\"float: right;\" src=\"https://doc.shiyanlou.com/document-uid214893labid7506timestamp1555400601684.png\"></a>"
   ]
  },
  {
   "cell_type": "markdown",
   "metadata": {},
   "source": [
    "## 蘑菇分类模型部署和推理"
   ]
  },
  {
   "cell_type": "markdown",
   "metadata": {},
   "source": [
    "---"
   ]
  },
  {
   "cell_type": "markdown",
   "metadata": {},
   "source": [
    "<i class=\"fa fa-exclamation-circle\" aria-hidden=\"true\"> 以下内容仅包含挑战需学员补充部分的参考答案，完整挑战请到原课程页面查看。</i>"
   ]
  },
  {
   "cell_type": "markdown",
   "metadata": {},
   "source": [
    "---"
   ]
  },
  {
   "cell_type": "markdown",
   "metadata": {},
   "source": [
    "你可以参考以下内容，或直接启动 [Kaggle Kernels](https://www.kaggle.com/louplus/mushroom) 版本。"
   ]
  },
  {
   "cell_type": "markdown",
   "metadata": {},
   "source": [
    "### 加载数据集"
   ]
  },
  {
   "cell_type": "code",
   "execution_count": null,
   "metadata": {
    "_cell_guid": "b1076dfc-b9ad-4769-8c92-a6c4dae69d19",
    "_uuid": "8f2839f25d086af736a60e9eeb907d3b93b6e0e5"
   },
   "outputs": [],
   "source": [
    "import pandas as pd\n",
    "import warnings\n",
    "warnings.filterwarnings('ignore')\n",
    "\n",
    "df = pd.read_csv(\"https://labfile.oss.aliyuncs.com/courses/1321/mushrooms.csv\")\n",
    "df.tail()"
   ]
  },
  {
   "cell_type": "markdown",
   "metadata": {},
   "source": [
    "### 模型训练和保存"
   ]
  },
  {
   "cell_type": "code",
   "execution_count": null,
   "metadata": {},
   "outputs": [],
   "source": [
    "from sklearn.ensemble import RandomForestClassifier\n",
    "from sklearn.model_selection import cross_val_score\n",
    "import joblib\n",
    "\n",
    "X = pd.get_dummies(df.iloc[:, 1:])  # 读取特征并独热编码\n",
    "y = df['class']  # 目标值\n",
    "\n",
    "model = RandomForestClassifier()  # 随机森林\n",
    "print(cross_val_score(model, X, y, cv=5).mean())  # 交叉验证结果\n",
    "\n",
    "model.fit(X, y)  # 训练模型\n",
    "joblib.dump(model, \"mushrooms.pkl\")  # 保存模型\n",
    "print(\"model saved.\")"
   ]
  },
  {
   "cell_type": "markdown",
   "metadata": {},
   "source": [
    "### 构建 Flask Web"
   ]
  },
  {
   "cell_type": "code",
   "execution_count": null,
   "metadata": {},
   "outputs": [],
   "source": [
    "%%writefile predict.py\n",
    "# 将此单元格代码写入 predict.py 文件方便后面执行\n",
    "import joblib\n",
    "import pandas as pd\n",
    "from flask import Flask, request, jsonify\n",
    "\n",
    "app = Flask(__name__)\n",
    "\n",
    "@app.route(\"/\", methods=[\"POST\"])  # 请求方法为 POST\n",
    "def inference():\n",
    "    query_df = pd.DataFrame(request.json)  # 将 JSON 变为 DataFrame\n",
    "    \n",
    "    df = pd.read_csv(\"https://labfile.oss.aliyuncs.com/courses/1321/mushrooms.csv\")  # 读取数据\n",
    "    X = pd.get_dummies(df.iloc[:, 1:])  # 读取特征并独热编码\n",
    "    query = pd.get_dummies(query_df).reindex(columns=X.columns, fill_value=0)  # 将请求数据 DataFrame 处理成独热编码样式\n",
    "    \n",
    "    clf = joblib.load('mushrooms.pkl')  # 加载模型\n",
    "    prediction = clf.predict(query)  # 模型推理\n",
    "    return jsonify({\"prediction\": list(prediction)})  # 返回推理结果"
   ]
  },
  {
   "cell_type": "markdown",
   "metadata": {},
   "source": [
    "### Notebook 中必须以子进程才能正常启动 Flask"
   ]
  },
  {
   "cell_type": "code",
   "execution_count": null,
   "metadata": {},
   "outputs": [],
   "source": [
    "import time\n",
    "import subprocess as sp\n",
    "\n",
    "# 启动子进程执行 Flask app\n",
    "server = sp.Popen(\"FLASK_APP=predict.py flask run\", shell=True)\n",
    "time.sleep(5)  # 等待 5 秒保证 Flask 启动成功\n",
    "server"
   ]
  },
  {
   "cell_type": "code",
   "execution_count": null,
   "metadata": {},
   "outputs": [],
   "source": [
    "import json\n",
    "\n",
    "# 从测试数据中取 1 条用于测试推理\n",
    "df_test = pd.read_csv(\"https://labfile.oss.aliyuncs.com/courses/1321/mushrooms_test.csv\")\n",
    "sample_data = df.sample(1).to_json(orient='records')\n",
    "sample_json = json.loads(sample_data)\n",
    "sample_json"
   ]
  },
  {
   "cell_type": "code",
   "execution_count": null,
   "metadata": {},
   "outputs": [],
   "source": [
    "import requests\n",
    "\n",
    "requests.post(url=\"http://localhost:5000\", json=sample_json).content  # 建立 POST 请求，并发送数据请求"
   ]
  },
  {
   "cell_type": "code",
   "execution_count": null,
   "metadata": {},
   "outputs": [],
   "source": [
    "server.terminate()  # 结束子进程，关闭端口占用"
   ]
  },
  {
   "cell_type": "markdown",
   "metadata": {},
   "source": [
    "---"
   ]
  },
  {
   "cell_type": "markdown",
   "metadata": {},
   "source": [
    "<img src=\"https://doc.shiyanlou.com/document-uid214893labid7506timestamp1545810029884.png\">"
   ]
  }
 ],
 "metadata": {
  "kernelspec": {
   "display_name": "Python 3",
   "language": "python",
   "name": "python3"
  },
  "language_info": {
   "codemirror_mode": {
    "name": "ipython",
    "version": 3
   },
   "file_extension": ".py",
   "mimetype": "text/x-python",
   "name": "python",
   "nbconvert_exporter": "python",
   "pygments_lexer": "ipython3",
   "version": "3.6.8"
  }
 },
 "nbformat": 4,
 "nbformat_minor": 1
}
