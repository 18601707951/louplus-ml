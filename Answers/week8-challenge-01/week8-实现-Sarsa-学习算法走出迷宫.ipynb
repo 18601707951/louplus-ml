{
 "cells": [
  {
   "cell_type": "markdown",
   "metadata": {},
   "source": [
    "<a target=\"_blank\" href=\"https://shiyanlou.com/louplus/ml\"><img style=\"float: right;\" src=\"https://doc.shiyanlou.com/document-uid214893labid7506timestamp1555400601684.png\"></a>"
   ]
  },
  {
   "cell_type": "markdown",
   "metadata": {},
   "source": [
    "## 实现 Sarsa 学习算法走出迷宫"
   ]
  },
  {
   "cell_type": "markdown",
   "metadata": {},
   "source": [
    "---"
   ]
  },
  {
   "cell_type": "markdown",
   "metadata": {},
   "source": [
    "<i class=\"fa fa-exclamation-circle\" aria-hidden=\"true\"> 以下内容仅包含挑战需学员补充部分的参考答案，完整挑战请到原课程页面查看。</i>"
   ]
  },
  {
   "cell_type": "markdown",
   "metadata": {},
   "source": [
    "---"
   ]
  },
  {
   "cell_type": "markdown",
   "metadata": {},
   "source": [
    "<font color='red'><i class=\"fa fa-check-square\" aria-hidden=\"true\"> 挑战</i></font>：按要求初始化 Q-Table。"
   ]
  },
  {
   "cell_type": "code",
   "execution_count": null,
   "metadata": {},
   "outputs": [],
   "source": [
    "import numpy as np\n",
    "import pandas as pd\n",
    "import time\n",
    "from IPython import display\n",
    "\n",
    "\n",
    "def init_q_table():\n",
    "\n",
    "    ### 代码开始 ### (≈ 2 行代码)\n",
    "    actions = np.array(['up', 'down', 'left', 'right'])\n",
    "    q_table = pd.DataFrame(np.zeros((16, len(actions))),\n",
    "                           columns=actions)  # 初始化 Q-Table 全为0\n",
    "    ### 代码结束 ###\n",
    "\n",
    "    return q_table"
   ]
  },
  {
   "cell_type": "markdown",
   "metadata": {},
   "source": [
    "<font color='red'><i class=\"fa fa-check-square\" aria-hidden=\"true\"> 挑战</i></font>：使用 $\\epsilon-greedy$ 方法根据 Q-Table 进行动作选择。"
   ]
  },
  {
   "cell_type": "code",
   "execution_count": null,
   "metadata": {},
   "outputs": [],
   "source": [
    "def act_choose(state, q_table, epsilon):\n",
    "\n",
    "    state_act = q_table.iloc[state, :]\n",
    "    actions = np.array(['up', 'down', 'left', 'right'])\n",
    "\n",
    "    ### 代码开始 ### (≈ 4 行代码)\n",
    "    if (np.random.uniform() > epsilon or state_act.all() == 0):\n",
    "        action = np.random.choice(actions)\n",
    "    else:\n",
    "        action = state_act.idxmax()\n",
    "    ### 代码结束 ###\n",
    "\n",
    "    return action"
   ]
  },
  {
   "cell_type": "markdown",
   "metadata": {},
   "source": [
    "<font color='red'><i class=\"fa fa-check-square\" aria-hidden=\"true\"> 挑战</i></font>：根据下方 Sarsa 的 Q-Table 的更新公式完善 Q-Table 更新函数。"
   ]
  },
  {
   "cell_type": "code",
   "execution_count": null,
   "metadata": {},
   "outputs": [],
   "source": [
    "def update_q_table(q_table, state, action, next_state, next_action, terminal, gamma, alpha, reward):\n",
    "\n",
    "    x, y = state\n",
    "    next_x, next_y = next_state\n",
    "    q_original = q_table.loc[x * 4 + y, action]\n",
    "\n",
    "    if next_state != terminal:\n",
    "        ### 代码开始 ### (≈ 1 行代码)\n",
    "        q_predict = reward + gamma * \\\n",
    "            q_table.loc[next_x * 4 + next_y, next_action]  # 不通过 .max() 选择\n",
    "        ### 代码结束 ###\n",
    "    else:\n",
    "        q_predict = reward\n",
    "\n",
    "    # 代码开始 ### (≈ 1 行代码)\n",
    "    # 和 Q-Learning 一致\n",
    "    q_table.loc[x * 4 + y, action] = (1-alpha) * q_original + alpha * q_predict\n",
    "    ### 代码结束 ###\n",
    "\n",
    "    return q_table"
   ]
  },
  {
   "cell_type": "markdown",
   "metadata": {},
   "source": [
    "<font color='red'><i class=\"fa fa-check-square\" aria-hidden=\"true\"> 挑战</i></font>：顺利完成以上几个函数后，根据下方 Sarsa 算法伪代码实现完整的学习过程。"
   ]
  },
  {
   "cell_type": "code",
   "execution_count": null,
   "metadata": {},
   "outputs": [],
   "source": [
    "def sarsa(max_episodes, alpha, gamma, epsilon):\n",
    "    q_table = init_q_table()\n",
    "    terminal = (3, 2)\n",
    "    hole = (2, 1)\n",
    "    episodes = 0\n",
    "    while(episodes < max_episodes):\n",
    "        step = 0\n",
    "        state = (0, 0)\n",
    "        end = 0\n",
    "        show_state(end, state, episodes, step, q_table)\n",
    "        x, y = state\n",
    "\n",
    "        ### 代码开始 ### （≈ 1 行代码)\n",
    "        action = act_choose(x * 4 + y, q_table, epsilon)  # 动作选择\n",
    "        ### 代码结束 ###\n",
    "\n",
    "        while(end == 0):\n",
    "            next_state, reward, end = env_feedback(\n",
    "                state, action, hole, terminal)  # 环境反馈\n",
    "            next_x, next_y = next_state\n",
    "            next_action = act_choose(\n",
    "                next_x * 4 + next_y, q_table, epsilon)  # 动作选择\n",
    "\n",
    "            ### 代码开始 ### （≈ 3 行代码)\n",
    "            q_table = update_q_table(\n",
    "                q_table, state, action, next_state, next_action, terminal, gamma, alpha, reward)\n",
    "            state = next_state\n",
    "            action = next_action\n",
    "            ### 代码结束 ###\n",
    "\n",
    "            step += 1\n",
    "            show_state(end, state, episodes, step, q_table)\n",
    "        if end == 2:\n",
    "            episodes += 1"
   ]
  },
  {
   "cell_type": "markdown",
   "metadata": {},
   "source": [
    "---"
   ]
  },
  {
   "cell_type": "markdown",
   "metadata": {},
   "source": [
    "<img src=\"https://doc.shiyanlou.com/document-uid214893labid7506timestamp1545810029884.png\">"
   ]
  }
 ],
 "metadata": {
  "kernelspec": {
   "display_name": "Python 3",
   "language": "python",
   "name": "python3"
  },
  "language_info": {
   "codemirror_mode": {
    "name": "ipython",
    "version": 3
   },
   "file_extension": ".py",
   "mimetype": "text/x-python",
   "name": "python",
   "nbconvert_exporter": "python",
   "pygments_lexer": "ipython3",
   "version": "3.6.8"
  }
 },
 "nbformat": 4,
 "nbformat_minor": 2
}
